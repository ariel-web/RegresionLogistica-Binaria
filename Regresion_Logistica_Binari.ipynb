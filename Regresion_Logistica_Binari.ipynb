{
  "nbformat": 4,
  "nbformat_minor": 0,
  "metadata": {
    "colab": {
      "name": "Regresion Logistica Binaria.ipynb",
      "provenance": [],
      "collapsed_sections": []
    },
    "kernelspec": {
      "name": "python3",
      "display_name": "Python 3"
    }
  },
  "cells": [
    {
      "cell_type": "markdown",
      "metadata": {
        "id": "hGJEBw6HT8sE",
        "colab_type": "text"
      },
      "source": [
        "Importamos regression Logistica de slklearn"
      ]
    },
    {
      "cell_type": "code",
      "metadata": {
        "id": "o9Vhe9BsRFIL",
        "colab_type": "code",
        "colab": {}
      },
      "source": [
        "from sklearn.linear_model import LogisticRegression\n",
        "from sklearn.metrics import confusion_matrix\n",
        "from sklearn.datasets import make_hastie_10_2\n",
        "from sklearn.model_selection import train_test_split "
      ],
      "execution_count": 1,
      "outputs": []
    },
    {
      "cell_type": "markdown",
      "metadata": {
        "id": "xjF1a0W-UGpr",
        "colab_type": "text"
      },
      "source": [
        "Asignamos las variables a la X y lo que queremos predecir a la Y"
      ]
    },
    {
      "cell_type": "code",
      "metadata": {
        "id": "LK0CoWApSgir",
        "colab_type": "code",
        "colab": {}
      },
      "source": [
        "X,y = make_hastie_10_2(n_samples=1000)"
      ],
      "execution_count": 2,
      "outputs": []
    },
    {
      "cell_type": "markdown",
      "metadata": {
        "id": "0pzDq4soUXdj",
        "colab_type": "text"
      },
      "source": [
        "Entremos el modelo"
      ]
    },
    {
      "cell_type": "code",
      "metadata": {
        "id": "TuG9rRJeSkNY",
        "colab_type": "code",
        "colab": {}
      },
      "source": [
        "data_train, data_test, labels_train, labels_test = train_test_split(X,y, test_size=0.3)"
      ],
      "execution_count": 3,
      "outputs": []
    },
    {
      "cell_type": "markdown",
      "metadata": {
        "id": "zKJ73F6PTp3f",
        "colab_type": "text"
      },
      "source": [
        "Iniciciamos el clasificacodor"
      ]
    },
    {
      "cell_type": "code",
      "metadata": {
        "id": "uw-sNUGmSpTA",
        "colab_type": "code",
        "colab": {
          "base_uri": "https://localhost:8080/",
          "height": 102
        },
        "outputId": "c594b6dc-265d-4044-e54a-11d654223be5"
      },
      "source": [
        "LRC = LogisticRegression()\n",
        "LRC.fit(data_train, labels_train)"
      ],
      "execution_count": 4,
      "outputs": [
        {
          "output_type": "execute_result",
          "data": {
            "text/plain": [
              "LogisticRegression(C=1.0, class_weight=None, dual=False, fit_intercept=True,\n",
              "                   intercept_scaling=1, l1_ratio=None, max_iter=100,\n",
              "                   multi_class='auto', n_jobs=None, penalty='l2',\n",
              "                   random_state=None, solver='lbfgs', tol=0.0001, verbose=0,\n",
              "                   warm_start=False)"
            ]
          },
          "metadata": {
            "tags": []
          },
          "execution_count": 4
        }
      ]
    },
    {
      "cell_type": "markdown",
      "metadata": {
        "id": "ywTTlb48T4XV",
        "colab_type": "text"
      },
      "source": [
        "Probamos el clasificador con los datos de prueba"
      ]
    },
    {
      "cell_type": "code",
      "metadata": {
        "id": "nS0VkthhT3M0",
        "colab_type": "code",
        "colab": {}
      },
      "source": [
        "predicted = LRC.predict(data_test)"
      ],
      "execution_count": 5,
      "outputs": []
    },
    {
      "cell_type": "code",
      "metadata": {
        "id": "vaZFPw0QSrGA",
        "colab_type": "code",
        "colab": {
          "base_uri": "https://localhost:8080/",
          "height": 51
        },
        "outputId": "6e161035-4d4e-4ea9-af22-a85272014c06"
      },
      "source": [
        "confusion_matrix(predicted, labels_test)"
      ],
      "execution_count": 6,
      "outputs": [
        {
          "output_type": "execute_result",
          "data": {
            "text/plain": [
              "array([[88, 90],\n",
              "       [59, 63]])"
            ]
          },
          "metadata": {
            "tags": []
          },
          "execution_count": 6
        }
      ]
    },
    {
      "cell_type": "markdown",
      "metadata": {
        "id": "ZtwQXsx-T72A",
        "colab_type": "text"
      },
      "source": [
        ""
      ]
    }
  ]
}